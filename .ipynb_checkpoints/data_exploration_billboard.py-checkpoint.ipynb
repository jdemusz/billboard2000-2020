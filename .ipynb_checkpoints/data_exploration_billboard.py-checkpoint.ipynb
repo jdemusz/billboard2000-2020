{
 "cells": [
  {
   "cell_type": "code",
   "execution_count": 1,
   "metadata": {},
   "outputs": [
    {
     "name": "stdout",
     "output_type": "stream",
     "text": [
      "Collecting billboard.py\n",
      "  Downloading https://files.pythonhosted.org/packages/b0/1e/96602e9bf581c348f14156cc20cbf4b890f3672f2960e04c103734740a18/billboard.py-5.3.0-py2.py3-none-any.whl\n",
      "Requirement already satisfied: beautifulsoup4>=4.4.1 in /Users/jobrien1726/anaconda3/envs/PythonData/lib/python3.7/site-packages (from billboard.py) (4.8.1)\n",
      "Requirement already satisfied: requests>=2.2.1 in /Users/jobrien1726/anaconda3/envs/PythonData/lib/python3.7/site-packages (from billboard.py) (2.22.0)\n",
      "Requirement already satisfied: soupsieve>=1.2 in /Users/jobrien1726/anaconda3/envs/PythonData/lib/python3.7/site-packages (from beautifulsoup4>=4.4.1->billboard.py) (1.9.3)\n",
      "Requirement already satisfied: chardet<3.1.0,>=3.0.2 in /Users/jobrien1726/anaconda3/envs/PythonData/lib/python3.7/site-packages (from requests>=2.2.1->billboard.py) (3.0.4)\n",
      "Requirement already satisfied: certifi>=2017.4.17 in /Users/jobrien1726/anaconda3/envs/PythonData/lib/python3.7/site-packages (from requests>=2.2.1->billboard.py) (2019.11.28)\n",
      "Requirement already satisfied: urllib3!=1.25.0,!=1.25.1,<1.26,>=1.21.1 in /Users/jobrien1726/anaconda3/envs/PythonData/lib/python3.7/site-packages (from requests>=2.2.1->billboard.py) (1.24.2)\n",
      "Requirement already satisfied: idna<2.9,>=2.5 in /Users/jobrien1726/anaconda3/envs/PythonData/lib/python3.7/site-packages (from requests>=2.2.1->billboard.py) (2.8)\n",
      "Installing collected packages: billboard.py\n",
      "Successfully installed billboard.py-5.3.0\n",
      "Note: you may need to restart the kernel to use updated packages.\n"
     ]
    }
   ],
   "source": [
    "pip install billboard.py"
   ]
  },
  {
   "cell_type": "code",
   "execution_count": 2,
   "metadata": {},
   "outputs": [
    {
     "data": {
      "text/plain": [
       "'The Hot 100'"
      ]
     },
     "execution_count": 2,
     "metadata": {},
     "output_type": "execute_result"
    }
   ],
   "source": [
    "import billboard\n",
    "top100_chart = billboard.ChartData('hot-100')\n",
    "top100_chart.title"
   ]
  },
  {
   "cell_type": "code",
   "execution_count": 3,
   "metadata": {},
   "outputs": [
    {
     "name": "stdout",
     "output_type": "stream",
     "text": [
      "Circles\n",
      "Post Malone\n",
      "13\n"
     ]
    }
   ],
   "source": [
    "song = chart[0]  # Get no. 1 song on chart\n",
    "\n",
    "print(song.title)\n",
    "\n",
    "print(song.artist)\n",
    "\n",
    "print(song.weeks)  # Number of weeks on chart\n"
   ]
  },
  {
   "cell_type": "code",
   "execution_count": 4,
   "metadata": {},
   "outputs": [
    {
     "name": "stdout",
     "output_type": "stream",
     "text": [
      "hot-100 chart from 2019-12-07\n",
      "-----------------------------\n",
      "1. 'Circles' by Post Malone\n",
      "2. 'Someone You Loved' by Lewis Capaldi\n",
      "3. 'Good As Hell' by Lizzo\n",
      "4. 'Memories' by Maroon 5\n",
      "5. 'Roxanne' by Arizona Zervas\n",
      "6. 'Lose You To Love Me' by Selena Gomez\n",
      "7. 'Senorita' by Shawn Mendes & Camila Cabello\n",
      "8. '10,000 Hours' by Dan + Shay & Justin Bieber\n",
      "9. 'Truth Hurts' by Lizzo\n",
      "10. 'No Guidance' by Chris Brown Featuring Drake\n",
      "11. 'Dance Monkey' by Tones And I\n",
      "12. 'BOP' by DaBaby\n",
      "13. 'Panini' by Lil Nas X\n",
      "14. 'Bad Guy' by Billie Eilish\n",
      "15. 'HIGHEST IN THE ROOM' by Travis Scott\n",
      "16. 'Ballin'' by Mustard Featuring Roddy Ricch\n",
      "17. 'Trampoline' by SHAED\n",
      "18. 'All I Want For Christmas Is You' by Mariah Carey\n",
      "19. 'Lover' by Taylor Swift\n",
      "20. 'Old Town Road' by Lil Nas X Featuring Billy Ray Cyrus\n",
      "21. 'Hot' by Young Thug Featuring Gunna\n",
      "22. 'One Man Band' by Old Dominion\n",
      "23. 'Woah' by Lil Baby\n",
      "24. 'Only Human' by Jonas Brothers\n",
      "25. 'Ran$om' by Lil Tecca\n",
      "26. 'everything i wanted' by Billie Eilish\n",
      "27. 'Beautiful People' by Ed Sheeran Featuring Khalid\n",
      "28. 'Even Though I'm Leaving' by Luke Combs\n",
      "29. 'Rockin' Around The Christmas Tree' by Brenda Lee\n",
      "30. 'Bandit' by Juice WRLD & YoungBoy Never Broke Again\n",
      "31. 'On Chill' by Wale Featuring Jeremih\n",
      "32. 'Heartless' by The Weeknd\n",
      "33. 'Vete' by Bad Bunny\n",
      "34. 'Graveyard' by Halsey\n",
      "35. 'I Don't Care' by Ed Sheeran & Justin Bieber\n",
      "36. 'Talk' by Khalid\n",
      "37. 'Don't Start Now' by Dua Lipa\n",
      "38. 'Heat' by Chris Brown Featuring Gunna\n",
      "39. 'Baby' by Lil Baby & DaBaby\n",
      "40. 'How Do You Sleep?' by Sam Smith\n",
      "41. 'Goodbyes' by Post Malone Featuring Young Thug\n",
      "42. 'Falling' by Trevor Daniel\n",
      "43. 'Playing Games' by Summer Walker\n",
      "44. 'Suge' by DaBaby\n",
      "45. 'Hot Girl Bummer' by blackbear\n",
      "46. 'Last Christmas' by Wham!\n",
      "47. 'Jingle Bell Rock' by Bobby Helms\n",
      "48. 'A Holly Jolly Christmas' by Burl Ives\n",
      "49. 'It's The Most Wonderful Time Of The Year' by Andy Williams\n",
      "50. 'Take What You Want' by Post Malone Featuring Ozzy Osbourne & Travis Scott\n",
      "51. 'Juicy' by Doja Cat & Tyga\n",
      "52. 'One Thing Right' by Marshmello & Kane Brown\n",
      "53. 'The Bones' by Maren Morris\n",
      "54. 'Time' by NF\n",
      "55. 'Into The Unknown' by Idina Menzel & AURORA\n",
      "56. 'Heart On Ice' by Rod Wave\n",
      "57. '223's' by YNW Melly & 9lokknine\n",
      "58. 'Who Needs Love' by Trippie Redd\n",
      "59. 'Death' by Trippie Redd Featuring DaBaby\n",
      "60. '6 Kiss' by Trippie Redd Featuring Juice WRLD & YNW Melly\n",
      "61. 'What If I Never Get Over You' by Lady Antebellum\n",
      "62. 'Remember You Young' by Thomas Rhett\n",
      "63. 'Loyal' by PARTYNEXTDOOR Featuring Drake\n",
      "64. 'Suicidal' by YNW Melly\n",
      "65. 'Camelot' by NLE Choppa\n",
      "66. 'VIBEZ' by DaBaby\n",
      "67. 'Leave Em Alone' by Layton Greene, Lil Baby, City Girls & PnB Rock\n",
      "68. 'We Were' by Keith Urban\n",
      "69. 'Prayed For You' by Matt Stell\n",
      "70. 'Kinfolks' by Sam Hunt\n",
      "71. 'Enemies' by Post Malone Featuring DaBaby\n",
      "72. 'Ridin' Roads' by Dustin Lynch\n",
      "73. 'Hate Me' by Ellie Goulding & Juice WRLD\n",
      "74. 'Heartache Medication' by Jon Pardi\n",
      "75. 'Baby Sitter' by DaBaby Featuring Offset\n",
      "76. 'All The Good Girls Go To Hell' by Billie Eilish\n",
      "77. 'Watermelon Sugar' by Harry Styles\n",
      "78. 'We Back' by Jason Aldean\n",
      "79. 'Follow God' by Kanye West\n",
      "80. 'Jerry Sprunger' by Tory Lanez & T-Pain\n",
      "81. 'Love Me More' by Trippie Redd\n",
      "82. 'Nice To Meet Ya' by Niall Horan\n",
      "83. 'Lalala' by Y2K & bbno$\n",
      "84. 'Hate Me' by Trippie Redd Featuring YoungBoy Never Broke Again\n",
      "85. 'Reply' by A Boogie Wit da Hoodie Featuring Lil Uzi Vert\n",
      "86. 'Tip Of My Tongue' by Kenny Chesney\n",
      "87. 'Candy' by Doja Cat\n",
      "88. 'Slow Dancing In The Dark' by Joji\n",
      "89. 'None Of Your Concern' by Jhene Aiko Featuring Big Sean\n",
      "90. 'Yellow Hearts' by Ant Saunders\n",
      "91. 'Make No Sense' by YoungBoy Never Broke Again\n",
      "92. 'Good Vibes' by Chris Janson\n",
      "93. 'La Cancion' by J Balvin & Bad Bunny\n",
      "94. 'Easy' by DaniLeigh Featuring Chris Brown\n",
      "95. 'Cuban Links' by Rod Wave & Kevin Gates\n",
      "96. 'Hot Girl Summer' by Megan Thee Stallion, Nicki Minaj & Ty Dolla $ign\n",
      "97. 'Lonely Child' by YoungBoy Never Broke Again\n",
      "98. 'Into The Unknown' by Panic! At The Disco\n",
      "99. 'Show Yourself' by Idina Menzel & Evan Rachel Wood\n",
      "100. 'Homesick' by Kane Brown\n"
     ]
    }
   ],
   "source": [
    "print(chart)"
   ]
  },
  {
   "cell_type": "code",
   "execution_count": null,
   "metadata": {},
   "outputs": [],
   "source": []
  }
 ],
 "metadata": {
  "kernelspec": {
   "display_name": "Python 3",
   "language": "python",
   "name": "python3"
  },
  "language_info": {
   "codemirror_mode": {
    "name": "ipython",
    "version": 3
   },
   "file_extension": ".py",
   "mimetype": "text/x-python",
   "name": "python",
   "nbconvert_exporter": "python",
   "pygments_lexer": "ipython3",
   "version": "3.7.3"
  }
 },
 "nbformat": 4,
 "nbformat_minor": 2
}

{
 "cells": [
  {
   "cell_type": "code",
   "execution_count": null,
   "metadata": {},
   "outputs": [],
   "source": [
    "import pandas as pd\n",
    "import requests\n",
    "import json\n",
    "from time import sleep"
   ]
  },
  {
   "cell_type": "code",
   "execution_count": null,
   "metadata": {},
   "outputs": [],
   "source": [
    "#Read in audio feature csv file\n",
    "audio_data_df = pd.read_csv(\"Resources/audio_feature_data.csv\")\n",
    "audio_data_df.head()"
   ]
  },
  {
   "cell_type": "code",
   "execution_count": null,
   "metadata": {},
   "outputs": [],
   "source": [
    "#Drop unnamed column\n",
    "#audio_data_df = audio_data_df.drop(columns=[\"Unnamed: 0\"])\n",
    "#audio_data_df.head()"
   ]
  },
  {
   "cell_type": "code",
   "execution_count": null,
   "metadata": {},
   "outputs": [],
   "source": [
    "#Use iTunes API to collect genre and explicitness data\n",
    "\n",
    "# Print a statement showing API Calls have begun\n",
    "print(\"Beginning Data Retrieval\")\n",
    "print(\"-----------------------------------------\")\n",
    "\n",
    "for index, row in audio_data_df.iterrows():\n",
    "    title = row[\"Title\"]\n",
    "    artist = row[\"Artist\"] \n",
    "    year = row[\"Year\"]\n",
    "\n",
    "    itunes_url = f\"https://itunes.apple.com/search?term={title}+{artist}&year={year}&entity=musicTrack&media=music&country=us\"\n",
    "    \n",
    "    itunes_response = requests.get(itunes_url).json()\n",
    "    #print(json.dumps(itunes_response, indent=4))\n",
    "    \n",
    "    try:\n",
    "        print(\"Processing Track Details for \" + str(row[\"Title\"]))\n",
    "        \n",
    "        audio_data_df.loc[index, \"Genre\"] = itunes_response[\"results\"][0][\"primaryGenreName\"]\n",
    "\n",
    "        audio_data_df.loc[index, \"Explicitness\"] = itunes_response[\"results\"][0][\"trackExplicitness\"] \n",
    "        \n",
    "    except (KeyError, IndexError):\n",
    "        print(\"Track Info not found. Skipping this track...\") \n",
    "        audio_data_df.loc[index, \"Genre\"] = \"NaN\"\n",
    "        audio_data_df.loc[index, \"Explicitness\"] = \"NaN\"\n",
    "        \n",
    "    sleep(3)\n",
    "        \n",
    "print(\"------------------------------------------\")\n",
    "print(\"Data Retrieval Complete\")\n",
    "print(\"------------------------------------------\")\n",
    "        \n",
    "display(audio_data_df)"
   ]
  },
  {
   "cell_type": "code",
   "execution_count": null,
   "metadata": {},
   "outputs": [],
   "source": [
    "#Reorganize Columns\n",
    "track_data_complete = audio_data_df[[\"Billboard Chart Date\", \"Title\", \"Artist\", \"Genre\", \"Year\",\n",
    "                                     \"Spotify Song ID\", \"Spotify Popularity Rating\",\n",
    "                                     \"Number of Weeks In Top 100\", \"Danceability\", \"Energy\",\n",
    "                                     \"Key\", \"Loudness\", \"Mode\", \"Acousticness\", \n",
    "                                     \"Instrumentalness\", \"Liveness\", \"Valence\", \"Tempo\", \n",
    "                                     \"Explicitness\", \"Duration (mins)\", \"Time Signature\"]]\n",
    "track_data_complete.head()"
   ]
  },
  {
   "cell_type": "code",
   "execution_count": null,
   "metadata": {},
   "outputs": [],
   "source": [
    "# Save to CSV\n",
    "track_data_complete.to_csv(\"Resources/track_data_complete.csv\")"
   ]
  },
  {
   "cell_type": "code",
   "execution_count": null,
   "metadata": {},
   "outputs": [],
   "source": []
  }
 ],
 "metadata": {
  "kernelspec": {
   "display_name": "Python 3",
   "language": "python",
   "name": "python3"
  },
  "language_info": {
   "codemirror_mode": {
    "name": "ipython",
    "version": 3
   },
   "file_extension": ".py",
   "mimetype": "text/x-python",
   "name": "python",
   "nbconvert_exporter": "python",
   "pygments_lexer": "ipython3",
   "version": "3.7.5"
  }
 },
 "nbformat": 4,
 "nbformat_minor": 2
}
